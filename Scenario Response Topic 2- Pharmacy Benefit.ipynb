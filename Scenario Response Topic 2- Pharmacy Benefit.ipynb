{
 "cells": [
  {
   "cell_type": "markdown",
   "metadata": {},
   "source": [
    "# Modeling the Future 2018"
   ]
  },
  {
   "cell_type": "code",
   "execution_count": 1,
   "metadata": {},
   "outputs": [],
   "source": [
    "import math\n",
    "import numpy as np\n",
    "import pandas as pd\n",
    "import scipy\n",
    "import scipy.stats\n",
    "import matplotlib.pyplot as plt\n",
    "import seaborn as sns\n",
    "import statsmodels.api as sm\n",
    "import statsmodels.formula.api as smf\n",
    "sns.set()\n",
    "import warnings\n",
    "warnings.simplefilter('ignore',FutureWarning)"
   ]
  },
  {
   "cell_type": "markdown",
   "metadata": {},
   "source": [
    "## Scenario Response Topic 2- Pharmacy Benefit"
   ]
  },
  {
   "cell_type": "code",
   "execution_count": 2,
   "metadata": {},
   "outputs": [],
   "source": [
    "pharmacy = pd.read_excel('Scenario-Response-2-Pharmacy-Benefit-Data-Continuance-Table.xls')\n",
    "pharmacy = pharmacy.rename({'Prescriptions (scripts)' : 'scripts', \n",
    "                            'Probability' : 'probability', \n",
    "                            'Cumulative Probability' : 'cumulative_probability'}, axis='columns')"
   ]
  },
  {
   "cell_type": "markdown",
   "metadata": {},
   "source": [
    "<u>**Part 1: The Basics**</u>"
   ]
  },
  {
   "cell_type": "markdown",
   "metadata": {},
   "source": [
    "**Question 1:** Using the Excel file, what are the expected number of scripts per person\n",
    "per year?\n",
    "\n",
    "*About 25 scripts per person per year*"
   ]
  },
  {
   "cell_type": "code",
   "execution_count": 3,
   "metadata": {},
   "outputs": [
    {
     "data": {
      "text/plain": [
       "25.46743195135006"
      ]
     },
     "execution_count": 3,
     "metadata": {},
     "output_type": "execute_result"
    }
   ],
   "source": [
    "avg_scripts = (pharmacy['probability'] * pharmacy['scripts']).sum()\n",
    "avg_scripts"
   ]
  },
  {
   "cell_type": "markdown",
   "metadata": {},
   "source": [
    "How many scripts will Company A likely insure during a year?\n",
    "\n",
    "*About 12.7 million scripts*"
   ]
  },
  {
   "cell_type": "code",
   "execution_count": 4,
   "metadata": {},
   "outputs": [
    {
     "data": {
      "text/plain": [
       "12733715.975675032"
      ]
     },
     "execution_count": 4,
     "metadata": {},
     "output_type": "execute_result"
    }
   ],
   "source": [
    "avg_scripts * 500000"
   ]
  },
  {
   "cell_type": "markdown",
   "metadata": {},
   "source": [
    "**Question 2:** What is the expected number of scripts considering only members who\n",
    "have at least one script?\n",
    "\n",
    "*About 15.9 million scripts*"
   ]
  },
  {
   "cell_type": "code",
   "execution_count": 23,
   "metadata": {},
   "outputs": [
    {
     "data": {
      "text/plain": [
       "15917144.969593756"
      ]
     },
     "execution_count": 23,
     "metadata": {},
     "output_type": "execute_result"
    }
   ],
   "source": [
    "have_scripts = pharmacy.copy()[pharmacy.scripts > 0]\n",
    "have_scripts_prob_total = have_scripts['probability'].sum()\n",
    "have_scripts['probability'] = have_scripts['probability'] / have_scripts_prob_total\n",
    "(have_scripts['probability'] * have_scripts['scripts']).sum() * 500000"
   ]
  },
  {
   "cell_type": "markdown",
   "metadata": {},
   "source": [
    "**Question 3:** What is the variance and standard deviation in the number of scripts per\n",
    "person per year?\n",
    "\n",
    "$$\\sigma^2=\\sum{(x-\\bar{x})^2P(x)}$$\n",
    "\n",
    "$\n",
    "\\sigma^2\\approx962.67\\text{ scripts per person per year squared}\\\\\n",
    "\\sigma\\approx31.03\\text{ scripts per person per year}\n",
    "$"
   ]
  },
  {
   "cell_type": "code",
   "execution_count": 6,
   "metadata": {},
   "outputs": [],
   "source": [
    "scripts_var = (((pharmacy['scripts'] - pharmacy['scripts'].mean()) ** 2) * pharmacy['probability']).sum()"
   ]
  },
  {
   "cell_type": "code",
   "execution_count": 7,
   "metadata": {},
   "outputs": [
    {
     "data": {
      "text/plain": [
       "962.6706220448247"
      ]
     },
     "execution_count": 7,
     "metadata": {},
     "output_type": "execute_result"
    }
   ],
   "source": [
    "scripts_var"
   ]
  },
  {
   "cell_type": "code",
   "execution_count": 24,
   "metadata": {},
   "outputs": [
    {
     "data": {
      "text/plain": [
       "31.02693381636066"
      ]
     },
     "execution_count": 24,
     "metadata": {},
     "output_type": "execute_result"
    }
   ],
   "source": [
    "math.sqrt(scripts_var)"
   ]
  },
  {
   "cell_type": "markdown",
   "metadata": {},
   "source": [
    "<u>**Part 2: Severity**</u>"
   ]
  },
  {
   "cell_type": "markdown",
   "metadata": {},
   "source": [
    "**Question 4:** If Company A covered 100% of the costs of the drugs, what is the pure\n",
    "premium for a given member?\n",
    "\n",
    "*Note: pure premium is the\n",
    "likelihood the event will happen (called the frequency) multiplied by the insurer’s\n",
    "expected cost when the event happens (called the severity)*\n",
    "\n",
    "*About \\$1039.07*"
   ]
  },
  {
   "cell_type": "code",
   "execution_count": 10,
   "metadata": {},
   "outputs": [],
   "source": [
    "pp = (pharmacy['probability'] * ((pharmacy['scripts'] * 0.88 * 30) + (pharmacy['scripts'] * 0.12 * 120))).sum()"
   ]
  },
  {
   "cell_type": "code",
   "execution_count": 11,
   "metadata": {
    "scrolled": true
   },
   "outputs": [
    {
     "data": {
      "text/plain": [
       "1039.0712236150823"
      ]
     },
     "execution_count": 11,
     "metadata": {},
     "output_type": "execute_result"
    }
   ],
   "source": [
    "pp"
   ]
  },
  {
   "cell_type": "markdown",
   "metadata": {},
   "source": [
    "**Question 5:** Assume that the standard deviation of the cost of a script is $75.00. Using\n",
    "the formula for variance below, calculate the minimum premium that allows a margin\n",
    "equal to 1.5 standard deviations. \n",
    "\n",
    "Let S=N\\*X where N=frequency, and X=severity. Let E[ ] represent the expected value of\n",
    "what is in the brackets, Var( ) represent the variance of what is in the brackets, and S =\n",
    "Pure Premium. Then one can show that if pure premium = E[S] = E[N]\\*E[X], then Var(S) =\n",
    "Var(X\\*E[N] + Var(N)\\*(E[X])^2\n",
    "\n",
    "*About \\$951.91*"
   ]
  },
  {
   "cell_type": "code",
   "execution_count": 12,
   "metadata": {},
   "outputs": [],
   "source": [
    "var_pp = (75 ** 2) * pharmacy['probability'].mean() + pharmacy['probability'].var() * (75 ** 2)"
   ]
  },
  {
   "cell_type": "code",
   "execution_count": 13,
   "metadata": {},
   "outputs": [
    {
     "data": {
      "text/plain": [
       "951.9149343368813"
      ]
     },
     "execution_count": 13,
     "metadata": {},
     "output_type": "execute_result"
    }
   ],
   "source": [
    "pp - var_pp * 1.5"
   ]
  },
  {
   "cell_type": "markdown",
   "metadata": {},
   "source": [
    "<u>**Part 3: Insurance Benefits**</u>"
   ]
  },
  {
   "cell_type": "markdown",
   "metadata": {},
   "source": [
    "**Question 6:** Suppose the only people who enroll in prescription-drug-only coverage\n",
    "were those who expect to have at least 25 prescriptions a year. Revise the continuance\n",
    "table and calculate the required pure premium.\n",
    "\n",
    "*Pure premium: ~\\$1525.52*"
   ]
  },
  {
   "cell_type": "code",
   "execution_count": 33,
   "metadata": {},
   "outputs": [],
   "source": [
    "pharmacy25 = pharmacy.copy()[pharmacy.scripts >= 25]\n",
    "prob_total = pharmacy25['probability'].sum()\n",
    "pharmacy25['probability'] = pharmacy25['probability'] / prob_total\n",
    "pharmacy25['cumulative_probability'] = np.cumsum(pharmacy25['probability'])"
   ]
  },
  {
   "cell_type": "code",
   "execution_count": 34,
   "metadata": {},
   "outputs": [],
   "source": [
    "pp25 = (pharmacy25['probability'] * ((pharmacy25['scripts'] * 0.88 * 30) + (pharmacy25['scripts'] * 0.12 * 120))).sum()\n",
    "var_pp25 = (75 ** 2) * pharmacy25['probability'].mean() + pharmacy25['probability'].var() * (75 ** 2)"
   ]
  },
  {
   "cell_type": "code",
   "execution_count": 35,
   "metadata": {},
   "outputs": [
    {
     "data": {
      "text/plain": [
       "1525.5189599139978"
      ]
     },
     "execution_count": 35,
     "metadata": {},
     "output_type": "execute_result"
    }
   ],
   "source": [
    "pp25 - var_pp25 * 1.5"
   ]
  },
  {
   "cell_type": "markdown",
   "metadata": {},
   "source": [
    "1. the member must pay \\$5.00 for every generic script\n",
    "2. the member must pay \\$50.00 for every brand script\n",
    "\n",
    "**Question 7:** Using the frequencies in the original continuance table, what is the new\n",
    "pure premium given the above benefit structure?\n",
    "\n",
    "*About \\$984.07*"
   ]
  },
  {
   "cell_type": "code",
   "execution_count": 28,
   "metadata": {},
   "outputs": [],
   "source": [
    "pp_copay = (pharmacy['probability'] * ((pharmacy['scripts'] * 0.88 * 30 - 5) + (pharmacy['scripts'] * 0.12 * 120 - 50))).sum()"
   ]
  },
  {
   "cell_type": "code",
   "execution_count": 29,
   "metadata": {},
   "outputs": [
    {
     "data": {
      "text/plain": [
       "984.0712236150825"
      ]
     },
     "execution_count": 29,
     "metadata": {},
     "output_type": "execute_result"
    }
   ],
   "source": [
    "pp_copay"
   ]
  },
  {
   "cell_type": "markdown",
   "metadata": {},
   "source": [
    "Company A is concerned that with the above copayments, a member could have very large\n",
    "out-of-pocket costs. Therefore, Company A added a third benefit called an “out-of-pocket\n",
    "maximum.” With the out of pocket maximum the company will cover all costs after a\n",
    "member pays $500 in copayments.\n",
    "\n",
    "**Question 8:** What is the new pure premium given the out-of-pocket maximum? Explain\n",
    "the assumptions you made in order to do this calculation. Why might another actuary\n",
    "calculate a different number that could also be reasonably defended?"
   ]
  },
  {
   "cell_type": "code",
   "execution_count": null,
   "metadata": {},
   "outputs": [],
   "source": []
  }
 ],
 "metadata": {
  "kernelspec": {
   "display_name": "Python 3",
   "language": "python",
   "name": "python3"
  },
  "language_info": {
   "codemirror_mode": {
    "name": "ipython",
    "version": 3
   },
   "file_extension": ".py",
   "mimetype": "text/x-python",
   "name": "python",
   "nbconvert_exporter": "python",
   "pygments_lexer": "ipython3",
   "version": "3.6.5"
  }
 },
 "nbformat": 4,
 "nbformat_minor": 2
}
