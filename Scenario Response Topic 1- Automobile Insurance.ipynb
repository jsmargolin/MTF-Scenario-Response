{
 "cells": [
  {
   "cell_type": "markdown",
   "metadata": {},
   "source": [
    "# Modeling the Future 2018"
   ]
  },
  {
   "cell_type": "markdown",
   "metadata": {},
   "source": [
    "by Jeremy Margolin, Michael Klyachman, Liam Schumm, Elias O'Malley, and Jules Goduco-Bunting"
   ]
  },
  {
   "cell_type": "code",
   "execution_count": 1,
   "metadata": {
    "tags": [
     "remove_cell"
    ]
   },
   "outputs": [],
   "source": [
    "import numpy as np\n",
    "import pandas as pd\n",
    "import scipy\n",
    "import scipy.stats\n",
    "import matplotlib.pyplot as plt\n",
    "import seaborn as sns\n",
    "import statsmodels.api as sm\n",
    "import statsmodels.formula.api as smf\n",
    "sns.set()\n",
    "import warnings\n",
    "warnings.simplefilter('ignore',FutureWarning)"
   ]
  },
  {
   "cell_type": "markdown",
   "metadata": {},
   "source": [
    "## Scenario Response Topic 1- Automobile Insurance\n",
    "\n",
    "Answers are in *italics*."
   ]
  },
  {
   "cell_type": "code",
   "execution_count": 2,
   "metadata": {},
   "outputs": [],
   "source": [
    "insurance = pd.read_excel('Scenario-Response-1-Auto-Insurance-Data.xlsx')"
   ]
  },
  {
   "cell_type": "markdown",
   "metadata": {},
   "source": [
    "**Question 1:** Estimate the probability that a Tonga owner has a loss during one year\n",
    "\n",
    "*~9.87%*"
   ]
  },
  {
   "cell_type": "code",
   "execution_count": 3,
   "metadata": {},
   "outputs": [
    {
     "data": {
      "text/plain": [
       "0.09872102318145481"
      ]
     },
     "execution_count": 3,
     "metadata": {},
     "output_type": "execute_result"
    }
   ],
   "source": [
    "tongas = insurance.groupby('Car Brand').get_group('Tonga')\n",
    "tongas_percent_loss = 1 - (tongas.groupby('Loss').get_group(0).shape[0] / tongas.shape[0])\n",
    "tongas_percent_loss"
   ]
  },
  {
   "cell_type": "markdown",
   "metadata": {},
   "source": [
    "**Question 2:** Estimate the loss on a policy, given that the policyholder owned a\n",
    "Bergen.\n",
    "\n",
    "*~$1100.36*"
   ]
  },
  {
   "cell_type": "code",
   "execution_count": 4,
   "metadata": {},
   "outputs": [
    {
     "data": {
      "text/plain": [
       "1100.356084319945"
      ]
     },
     "execution_count": 4,
     "metadata": {},
     "output_type": "execute_result"
    }
   ],
   "source": [
    "insurance.groupby('Car Brand').get_group('Bergen')['Loss'].mean()"
   ]
  },
  {
   "cell_type": "markdown",
   "metadata": {},
   "source": [
    "**Question 3:** Do you see a relationship between Age and Loss, given a loss has occurred? If so, what type of relationship? What could be a logical reason for this trend?\n",
    "\n",
    "*Yes. Given that loss has occured, young people lose on average 15% more money as old people. A logical reason for this trend is that young people are more careless and are less experienced drivers, therefore the accidents that they get in are worse.*"
   ]
  },
  {
   "cell_type": "code",
   "execution_count": 5,
   "metadata": {},
   "outputs": [
    {
     "data": {
      "text/plain": [
       "Text(0.5,1,'Mean Loss per Age Group')"
      ]
     },
     "execution_count": 5,
     "metadata": {},
     "output_type": "execute_result"
    },
    {
     "data": {
      "image/png": "[encoded data removed]",
      "text/plain": [
       "<Figure size 432x288 with 1 Axes>"
      ]
     },
     "metadata": {
      "needs_background": "light"
     },
     "output_type": "display_data"
    }
   ],
   "source": [
    "age_mean = insurance[insurance.Loss > 0].groupby('Age').mean()\n",
    "sns.barplot(x=age_mean.index, y='Loss', data=age_mean).set_title('Mean Loss per Age Group')"
   ]
  },
  {
   "cell_type": "code",
   "execution_count": 6,
   "metadata": {},
   "outputs": [
    {
     "data": {
      "text/html": [
       "<table class=\"simpletable\">\n",
       "<caption>OLS Regression Results</caption>\n",
       "<tr>\n",
       "  <th>Dep. Variable:</th>          <td>Loss</td>       <th>  R-squared:         </th> <td>   0.019</td> \n",
       "</tr>\n",
       "<tr>\n",
       "  <th>Model:</th>                   <td>OLS</td>       <th>  Adj. R-squared:    </th> <td>   0.017</td> \n",
       "</tr>\n",
       "<tr>\n",
       "  <th>Method:</th>             <td>Least Squares</td>  <th>  F-statistic:       </th> <td>   12.68</td> \n",
       "</tr>\n",
       "<tr>\n",
       "  <th>Date:</th>             <td>Thu, 06 Dec 2018</td> <th>  Prob (F-statistic):</th> <td>3.49e-06</td> \n",
       "</tr>\n",
       "<tr>\n",
       "  <th>Time:</th>                 <td>10:26:41</td>     <th>  Log-Likelihood:    </th> <td> -13956.</td> \n",
       "</tr>\n",
       "<tr>\n",
       "  <th>No. Observations:</th>      <td>  1347</td>      <th>  AIC:               </th> <td>2.792e+04</td>\n",
       "</tr>\n",
       "<tr>\n",
       "  <th>Df Residuals:</th>          <td>  1344</td>      <th>  BIC:               </th> <td>2.793e+04</td>\n",
       "</tr>\n",
       "<tr>\n",
       "  <th>Df Model:</th>              <td>     2</td>      <th>                     </th>     <td> </td>    \n",
       "</tr>\n",
       "<tr>\n",
       "  <th>Covariance Type:</th>      <td>nonrobust</td>    <th>                     </th>     <td> </td>    \n",
       "</tr>\n",
       "</table>\n",
       "<table class=\"simpletable\">\n",
       "<tr>\n",
       "     <td></td>       <th>coef</th>     <th>std err</th>      <th>t</th>      <th>P>|t|</th>  <th>[0.025</th>    <th>0.975]</th>  \n",
       "</tr>\n",
       "<tr>\n",
       "  <th>Age[M]</th> <td> 6121.2834</td> <td>  392.646</td> <td>   15.590</td> <td> 0.000</td> <td> 5351.018</td> <td> 6891.549</td>\n",
       "</tr>\n",
       "<tr>\n",
       "  <th>Age[O]</th> <td> 7425.7139</td> <td>  368.257</td> <td>   20.164</td> <td> 0.000</td> <td> 6703.293</td> <td> 8148.135</td>\n",
       "</tr>\n",
       "<tr>\n",
       "  <th>Age[Y]</th> <td> 8697.2409</td> <td>  330.915</td> <td>   26.282</td> <td> 0.000</td> <td> 8048.076</td> <td> 9346.406</td>\n",
       "</tr>\n",
       "</table>\n",
       "<table class=\"simpletable\">\n",
       "<tr>\n",
       "  <th>Omnibus:</th>       <td>634.540</td> <th>  Durbin-Watson:     </th> <td>   2.033</td>\n",
       "</tr>\n",
       "<tr>\n",
       "  <th>Prob(Omnibus):</th> <td> 0.000</td>  <th>  Jarque-Bera (JB):  </th> <td>3790.198</td>\n",
       "</tr>\n",
       "<tr>\n",
       "  <th>Skew:</th>          <td> 2.141</td>  <th>  Prob(JB):          </th> <td>    0.00</td>\n",
       "</tr>\n",
       "<tr>\n",
       "  <th>Kurtosis:</th>      <td>10.013</td>  <th>  Cond. No.          </th> <td>    1.19</td>\n",
       "</tr>\n",
       "</table><br/><br/>Warnings:<br/>[1] Standard Errors assume that the covariance matrix of the errors is correctly specified."
      ],
      "text/plain": [
       "<class 'statsmodels.iolib.summary.Summary'>\n",
       "\"\"\"\n",
       "                            OLS Regression Results                            \n",
       "==============================================================================\n",
       "Dep. Variable:                   Loss   R-squared:                       0.019\n",
       "Model:                            OLS   Adj. R-squared:                  0.017\n",
       "Method:                 Least Squares   F-statistic:                     12.68\n",
       "Date:                Thu, 06 Dec 2018   Prob (F-statistic):           3.49e-06\n",
       "Time:                        10:26:41   Log-Likelihood:                -13956.\n",
       "No. Observations:                1347   AIC:                         2.792e+04\n",
       "Df Residuals:                    1344   BIC:                         2.793e+04\n",
       "Df Model:                           2                                         \n",
       "Covariance Type:            nonrobust                                         \n",
       "==============================================================================\n",
       "                 coef    std err          t      P>|t|      [0.025      0.975]\n",
       "------------------------------------------------------------------------------\n",
       "Age[M]      6121.2834    392.646     15.590      0.000    5351.018    6891.549\n",
       "Age[O]      7425.7139    368.257     20.164      0.000    6703.293    8148.135\n",
       "Age[Y]      8697.2409    330.915     26.282      0.000    8048.076    9346.406\n",
       "==============================================================================\n",
       "Omnibus:                      634.540   Durbin-Watson:                   2.033\n",
       "Prob(Omnibus):                  0.000   Jarque-Bera (JB):             3790.198\n",
       "Skew:                           2.141   Prob(JB):                         0.00\n",
       "Kurtosis:                      10.013   Cond. No.                         1.19\n",
       "==============================================================================\n",
       "\n",
       "Warnings:\n",
       "[1] Standard Errors assume that the covariance matrix of the errors is correctly specified.\n",
       "\"\"\""
      ]
     },
     "execution_count": 6,
     "metadata": {},
     "output_type": "execute_result"
    }
   ],
   "source": [
    "losses = insurance[insurance.Loss > 0]\n",
    "smf.ols('Loss ~ Age - 1', data=losses).fit().summary()"
   ]
  },
  {
   "cell_type": "markdown",
   "metadata": {},
   "source": [
    "**Question 4:** Do you see a relationship between gender and the frequency of a loss occurring?\n",
    "\n",
    "*Males are ~2.2% more likely to have a loss (low p-value so this is statistically significant).*"
   ]
  },
  {
   "cell_type": "code",
   "execution_count": 7,
   "metadata": {},
   "outputs": [
    {
     "data": {
      "text/plain": [
       "Text(0.5,1,'Loss Frequency vs Gender')"
      ]
     },
     "execution_count": 7,
     "metadata": {},
     "output_type": "execute_result"
    },
    {
     "data": {
      "image/png": "[encoded data removed]",
      "text/plain": [
       "<Figure size 432x288 with 1 Axes>"
      ]
     },
     "metadata": {
      "needs_background": "light"
     },
     "output_type": "display_data"
    }
   ],
   "source": [
    "males = insurance.groupby('Gender').get_group('M')\n",
    "females = insurance.groupby('Gender').get_group('F')\n",
    "gender_lossfreq = pd.DataFrame({'Gender' : ['M', 'F'],\n",
    "                                'Loss Frequency' : [males[males.Loss != 0].size / males.size,\n",
    "                                                    females[females.Loss != 0].size / females.size]})\n",
    "sns.barplot(x='Gender', y='Loss Frequency', data=gender_lossfreq).set_title('Loss Frequency vs Gender')"
   ]
  },
  {
   "cell_type": "code",
   "execution_count": 8,
   "metadata": {
    "scrolled": true
   },
   "outputs": [
    {
     "name": "stdout",
     "output_type": "stream",
     "text": [
      "# of Male losses: 728\n",
      "# of Female losses: 619\n"
     ]
    }
   ],
   "source": [
    "print('# of Male losses: ' + str(males[males.Loss != 0].shape[0])) \n",
    "print('# of Female losses: ' + str(females[females.Loss != 0].shape[0]))"
   ]
  },
  {
   "cell_type": "code",
   "execution_count": 9,
   "metadata": {
    "scrolled": false
   },
   "outputs": [
    {
     "data": {
      "text/html": [
       "<div>\n",
       "<style scoped>\n",
       "    .dataframe tbody tr th:only-of-type {\n",
       "        vertical-align: middle;\n",
       "    }\n",
       "\n",
       "    .dataframe tbody tr th {\n",
       "        vertical-align: top;\n",
       "    }\n",
       "\n",
       "    .dataframe thead th {\n",
       "        text-align: right;\n",
       "    }\n",
       "</style>\n",
       "<table border=\"1\" class=\"dataframe\">\n",
       "  <thead>\n",
       "    <tr style=\"text-align: right;\">\n",
       "      <th></th>\n",
       "      <th>Loss</th>\n",
       "    </tr>\n",
       "    <tr>\n",
       "      <th>Gender</th>\n",
       "      <th></th>\n",
       "    </tr>\n",
       "  </thead>\n",
       "  <tbody>\n",
       "    <tr>\n",
       "      <th>F</th>\n",
       "      <td>932.104907</td>\n",
       "    </tr>\n",
       "    <tr>\n",
       "      <th>M</th>\n",
       "      <td>1103.670467</td>\n",
       "    </tr>\n",
       "  </tbody>\n",
       "</table>\n",
       "</div>"
      ],
      "text/plain": [
       "               Loss\n",
       "Gender             \n",
       "F        932.104907\n",
       "M       1103.670467"
      ]
     },
     "execution_count": 9,
     "metadata": {},
     "output_type": "execute_result"
    }
   ],
   "source": [
    "insurance.groupby('Gender').mean().iloc[:, 1:2]"
   ]
  },
  {
   "cell_type": "code",
   "execution_count": 10,
   "metadata": {},
   "outputs": [],
   "source": [
    "loss_transform = np.vectorize(min)"
   ]
  },
  {
   "cell_type": "code",
   "execution_count": 11,
   "metadata": {},
   "outputs": [
    {
     "data": {
      "text/html": [
       "<table class=\"simpletable\">\n",
       "<caption>OLS Regression Results</caption>\n",
       "<tr>\n",
       "  <th>Dep. Variable:</th>         <td>HasLoss</td>     <th>  R-squared:         </th> <td>   0.001</td>\n",
       "</tr>\n",
       "<tr>\n",
       "  <th>Model:</th>                   <td>OLS</td>       <th>  Adj. R-squared:    </th> <td>   0.001</td>\n",
       "</tr>\n",
       "<tr>\n",
       "  <th>Method:</th>             <td>Least Squares</td>  <th>  F-statistic:       </th> <td>   10.20</td>\n",
       "</tr>\n",
       "<tr>\n",
       "  <th>Date:</th>             <td>Thu, 06 Dec 2018</td> <th>  Prob (F-statistic):</th>  <td>0.00141</td>\n",
       "</tr>\n",
       "<tr>\n",
       "  <th>Time:</th>                 <td>10:26:42</td>     <th>  Log-Likelihood:    </th> <td> -3436.7</td>\n",
       "</tr>\n",
       "<tr>\n",
       "  <th>No. Observations:</th>      <td> 10008</td>      <th>  AIC:               </th> <td>   6877.</td>\n",
       "</tr>\n",
       "<tr>\n",
       "  <th>Df Residuals:</th>          <td> 10006</td>      <th>  BIC:               </th> <td>   6892.</td>\n",
       "</tr>\n",
       "<tr>\n",
       "  <th>Df Model:</th>              <td>     1</td>      <th>                     </th>     <td> </td>   \n",
       "</tr>\n",
       "<tr>\n",
       "  <th>Covariance Type:</th>      <td>nonrobust</td>    <th>                     </th>     <td> </td>   \n",
       "</tr>\n",
       "</table>\n",
       "<table class=\"simpletable\">\n",
       "<tr>\n",
       "      <td></td>         <th>coef</th>     <th>std err</th>      <th>t</th>      <th>P>|t|</th>  <th>[0.025</th>    <th>0.975]</th>  \n",
       "</tr>\n",
       "<tr>\n",
       "  <th>Gender[F]</th> <td>    0.1237</td> <td>    0.005</td> <td>   25.650</td> <td> 0.000</td> <td>    0.114</td> <td>    0.133</td>\n",
       "</tr>\n",
       "<tr>\n",
       "  <th>Gender[M]</th> <td>    0.1455</td> <td>    0.005</td> <td>   30.167</td> <td> 0.000</td> <td>    0.136</td> <td>    0.155</td>\n",
       "</tr>\n",
       "</table>\n",
       "<table class=\"simpletable\">\n",
       "<tr>\n",
       "  <th>Omnibus:</th>       <td>3796.746</td> <th>  Durbin-Watson:     </th> <td>   1.965</td> \n",
       "</tr>\n",
       "<tr>\n",
       "  <th>Prob(Omnibus):</th>  <td> 0.000</td>  <th>  Jarque-Bera (JB):  </th> <td>10400.902</td>\n",
       "</tr>\n",
       "<tr>\n",
       "  <th>Skew:</th>           <td> 2.138</td>  <th>  Prob(JB):          </th> <td>    0.00</td> \n",
       "</tr>\n",
       "<tr>\n",
       "  <th>Kurtosis:</th>       <td> 5.580</td>  <th>  Cond. No.          </th> <td>    1.00</td> \n",
       "</tr>\n",
       "</table><br/><br/>Warnings:<br/>[1] Standard Errors assume that the covariance matrix of the errors is correctly specified."
      ],
      "text/plain": [
       "<class 'statsmodels.iolib.summary.Summary'>\n",
       "\"\"\"\n",
       "                            OLS Regression Results                            \n",
       "==============================================================================\n",
       "Dep. Variable:                HasLoss   R-squared:                       0.001\n",
       "Model:                            OLS   Adj. R-squared:                  0.001\n",
       "Method:                 Least Squares   F-statistic:                     10.20\n",
       "Date:                Thu, 06 Dec 2018   Prob (F-statistic):            0.00141\n",
       "Time:                        10:26:42   Log-Likelihood:                -3436.7\n",
       "No. Observations:               10008   AIC:                             6877.\n",
       "Df Residuals:                   10006   BIC:                             6892.\n",
       "Df Model:                           1                                         \n",
       "Covariance Type:            nonrobust                                         \n",
       "==============================================================================\n",
       "                 coef    std err          t      P>|t|      [0.025      0.975]\n",
       "------------------------------------------------------------------------------\n",
       "Gender[F]      0.1237      0.005     25.650      0.000       0.114       0.133\n",
       "Gender[M]      0.1455      0.005     30.167      0.000       0.136       0.155\n",
       "==============================================================================\n",
       "Omnibus:                     3796.746   Durbin-Watson:                   1.965\n",
       "Prob(Omnibus):                  0.000   Jarque-Bera (JB):            10400.902\n",
       "Skew:                           2.138   Prob(JB):                         0.00\n",
       "Kurtosis:                       5.580   Cond. No.                         1.00\n",
       "==============================================================================\n",
       "\n",
       "Warnings:\n",
       "[1] Standard Errors assume that the covariance matrix of the errors is correctly specified.\n",
       "\"\"\""
      ]
     },
     "execution_count": 11,
     "metadata": {},
     "output_type": "execute_result"
    }
   ],
   "source": [
    "insurance4 = insurance.copy()\n",
    "insurance4['HasLoss'] = loss_transform(insurance4['Loss'], 1)\n",
    "smf.ols('HasLoss ~ Gender - 1', data=insurance4).fit().summary()"
   ]
  },
  {
   "cell_type": "markdown",
   "metadata": {},
   "source": [
    "**Question 5:** Which car brand and gender combination has the least expected payout?\n",
    "\n",
    "*Female with a Davis (lowest mean payout, payout is loss given that loss has occured)*"
   ]
  },
  {
   "cell_type": "code",
   "execution_count": 12,
   "metadata": {
    "scrolled": false
   },
   "outputs": [
    {
     "data": {
      "text/html": [
       "<div>\n",
       "<style scoped>\n",
       "    .dataframe tbody tr th:only-of-type {\n",
       "        vertical-align: middle;\n",
       "    }\n",
       "\n",
       "    .dataframe tbody tr th {\n",
       "        vertical-align: top;\n",
       "    }\n",
       "\n",
       "    .dataframe thead th {\n",
       "        text-align: right;\n",
       "    }\n",
       "</style>\n",
       "<table border=\"1\" class=\"dataframe\">\n",
       "  <thead>\n",
       "    <tr style=\"text-align: right;\">\n",
       "      <th></th>\n",
       "      <th>Loss</th>\n",
       "    </tr>\n",
       "    <tr>\n",
       "      <th>Car Brand</th>\n",
       "      <th></th>\n",
       "    </tr>\n",
       "  </thead>\n",
       "  <tbody>\n",
       "    <tr>\n",
       "      <th>Bergen</th>\n",
       "      <td>7646.016782</td>\n",
       "    </tr>\n",
       "    <tr>\n",
       "      <th>Davis</th>\n",
       "      <td>6780.126582</td>\n",
       "    </tr>\n",
       "    <tr>\n",
       "      <th>Montes</th>\n",
       "      <td>7736.295132</td>\n",
       "    </tr>\n",
       "    <tr>\n",
       "      <th>Tonga</th>\n",
       "      <td>8372.143042</td>\n",
       "    </tr>\n",
       "  </tbody>\n",
       "</table>\n",
       "</div>"
      ],
      "text/plain": [
       "                  Loss\n",
       "Car Brand             \n",
       "Bergen     7646.016782\n",
       "Davis      6780.126582\n",
       "Montes     7736.295132\n",
       "Tonga      8372.143042"
      ]
     },
     "execution_count": 12,
     "metadata": {},
     "output_type": "execute_result"
    }
   ],
   "source": [
    "males[males.Loss > 0].groupby('Car Brand').mean().iloc[:, 1:2]"
   ]
  },
  {
   "cell_type": "code",
   "execution_count": 13,
   "metadata": {},
   "outputs": [
    {
     "data": {
      "text/html": [
       "<div>\n",
       "<style scoped>\n",
       "    .dataframe tbody tr th:only-of-type {\n",
       "        vertical-align: middle;\n",
       "    }\n",
       "\n",
       "    .dataframe tbody tr th {\n",
       "        vertical-align: top;\n",
       "    }\n",
       "\n",
       "    .dataframe thead th {\n",
       "        text-align: right;\n",
       "    }\n",
       "</style>\n",
       "<table border=\"1\" class=\"dataframe\">\n",
       "  <thead>\n",
       "    <tr style=\"text-align: right;\">\n",
       "      <th></th>\n",
       "      <th>Loss</th>\n",
       "    </tr>\n",
       "    <tr>\n",
       "      <th>Car Brand</th>\n",
       "      <th></th>\n",
       "    </tr>\n",
       "  </thead>\n",
       "  <tbody>\n",
       "    <tr>\n",
       "      <th>Bergen</th>\n",
       "      <td>7882.327546</td>\n",
       "    </tr>\n",
       "    <tr>\n",
       "      <th>Davis</th>\n",
       "      <td>6737.887209</td>\n",
       "    </tr>\n",
       "    <tr>\n",
       "      <th>Montes</th>\n",
       "      <td>7209.681824</td>\n",
       "    </tr>\n",
       "    <tr>\n",
       "      <th>Tonga</th>\n",
       "      <td>8656.186828</td>\n",
       "    </tr>\n",
       "  </tbody>\n",
       "</table>\n",
       "</div>"
      ],
      "text/plain": [
       "                  Loss\n",
       "Car Brand             \n",
       "Bergen     7882.327546\n",
       "Davis      6737.887209\n",
       "Montes     7209.681824\n",
       "Tonga      8656.186828"
      ]
     },
     "execution_count": 13,
     "metadata": {},
     "output_type": "execute_result"
    }
   ],
   "source": [
    "females[females.Loss > 0].groupby('Car Brand').mean().iloc[:, 1:2]"
   ]
  },
  {
   "cell_type": "markdown",
   "metadata": {},
   "source": [
    "**Question 6:** What type of distribution does a Davis policyholder’s loss have, given that there is a loss? Graph the distribution and comment on its shape."
   ]
  },
  {
   "cell_type": "code",
   "execution_count": 14,
   "metadata": {},
   "outputs": [
    {
     "data": {
      "text/plain": [
       "Text(0.5,1,'Probability Distribution of Losses on Davis Policies')"
      ]
     },
     "execution_count": 14,
     "metadata": {},
     "output_type": "execute_result"
    },
    {
     "data": {
      "image/png": "[encoded data removed]",
      "text/plain": [
       "<Figure size 432x288 with 1 Axes>"
      ]
     },
     "metadata": {
      "needs_background": "light"
     },
     "output_type": "display_data"
    }
   ],
   "source": [
    "daviss = insurance.groupby('Car Brand').get_group('Davis')\n",
    "sns.distplot(daviss[daviss.Loss > 0]['Loss']).set_title('Probability Distribution of Losses on Davis Policies')"
   ]
  },
  {
   "cell_type": "markdown",
   "metadata": {},
   "source": [
    "*This looks most like an exponential distribution:*\n",
    "\n",
    "<img src=\"https://www.itl.nist.gov/div898/handbook/eda/section3/gif/exppdf.gif\">"
   ]
  },
  {
   "cell_type": "markdown",
   "metadata": {},
   "source": [
    "**Question 7:** A family owns two cars, a Davis and a Tonga. What is the probability that exactly one of the policies will have a loss in the next year? The parents (middle-aged) drive the Tonga, while the children (young) drive the Davis.\n",
    "\n",
    "*~21.32%*"
   ]
  },
  {
   "cell_type": "code",
   "execution_count": 15,
   "metadata": {},
   "outputs": [],
   "source": [
    "young_davis_percent_loss = len(daviss[(daviss.Loss > 0) & (daviss.Age == 'Y')]) / len(daviss[daviss.Age == 'Y'])\n",
    "mid_tongas_percent_loss = len(tongas[(tongas.Loss > 0) & (tongas.Age == 'M')]) / len(tongas[tongas.Age == 'Y'])"
   ]
  },
  {
   "cell_type": "code",
   "execution_count": 16,
   "metadata": {},
   "outputs": [
    {
     "data": {
      "text/plain": [
       "0.21317909701016163"
      ]
     },
     "execution_count": 16,
     "metadata": {},
     "output_type": "execute_result"
    }
   ],
   "source": [
    "(young_davis_percent_loss * (1 - mid_tongas_percent_loss)) + ((1 - young_davis_percent_loss) * mid_tongas_percent_loss)"
   ]
  },
  {
   "cell_type": "markdown",
   "metadata": {},
   "source": [
    "**Question 8:** Joe, a 20-year old male is looking to buy insurance for a new Davis. His\n",
    "quote is $1800 per year. Joe comes to you, and asks you to analyze the data to see\n",
    "if the quote is higher than the expected amount that he would lose each year\n",
    "without insurance. What is the expected loss per year? What additional value does\n",
    "an insurance policy provide, if the expected loss is lower than the quote?\n",
    "\n",
    "*Expected Loss Per Year: \\$1387.91*\n",
    "\n",
    "*If the expected loss is lower than the quote, this value is the expected amount a policy holder will have to pay on top of their deductible (quote) as the insurance company does not pay anything if this is true.*"
   ]
  },
  {
   "cell_type": "code",
   "execution_count": 17,
   "metadata": {},
   "outputs": [
    {
     "data": {
      "text/plain": [
       "1387.9104881888504"
      ]
     },
     "execution_count": 17,
     "metadata": {},
     "output_type": "execute_result"
    }
   ],
   "source": [
    "insurance[(insurance['Car Brand'] == 'Davis') & (insurance['Gender'] == 'M') & (insurance['Age'] == 'Y')]['Loss'].mean()"
   ]
  },
  {
   "cell_type": "markdown",
   "metadata": {},
   "source": [
    "**Question 9:** Calculate the pure premium for a young male driving a Davis, using a\n",
    "profit margin of 15% and fixed costs of $134 per policy holder. If we ignore\n",
    "interest, pure premium of an insurable event equals the likelihood the event will\n",
    "happen (called the frequency) multiplied by the insurer’s expected cost when the\n",
    "event happens (called the severity). Interpret this number.\n",
    "\n",
    "*The pure premium for a young male driving a Davis is about $448.82 if the company expects to make 15% profit on the pure premium and a \\$134 fee is added on top of the pure premium amount.*"
   ]
  },
  {
   "cell_type": "code",
   "execution_count": 23,
   "metadata": {},
   "outputs": [],
   "source": [
    "def get_mean_loss(brand, gender, age):\n",
    "    return insurance[(insurance['Car Brand'] == brand) & (insurance['Gender'] == gender) & (insurance['Age'] == age)]['Loss'].mean()\n",
    "def get_loss_freq(brand, gender, age):\n",
    "    total = insurance[(insurance['Car Brand'] == brand) & (insurance['Gender'] == gender) & (insurance['Age'] == age)]\n",
    "    loss = total[total.Loss > 0]\n",
    "    return len(loss) / len(total)"
   ]
  },
  {
   "cell_type": "code",
   "execution_count": 19,
   "metadata": {},
   "outputs": [],
   "source": [
    "pure_premium = get_loss_freq('Davis', 'M', 'Y') * get_mean_loss('Davis', 'M', 'Y')"
   ]
  },
  {
   "cell_type": "code",
   "execution_count": 27,
   "metadata": {
    "scrolled": true
   },
   "outputs": [
    {
     "data": {
      "text/plain": [
       "448.822958583028"
      ]
     },
     "execution_count": 27,
     "metadata": {},
     "output_type": "execute_result"
    }
   ],
   "source": [
    "(pure_premium + 134) * 1.15"
   ]
  },
  {
   "cell_type": "markdown",
   "metadata": {},
   "source": [
    "**Question 10:** Do you think an insurance company should use car brand, gender,\n",
    "and age to determine a policyholder’s premium? What other variables can you\n",
    "think of that might have an impact on expected loss, and why?\n",
    "\n",
    "*Yes, insurance companies should use car brand, gender, and age to determine a policyholder's premium. Seeing as car insurance is mandatory for car ownership, lower risk drivers who have less of a chance of needing to make a claim (and therefore need less in claims) should not have to help cover for more accident-prone drivers covered by the same company.*"
   ]
  },
  {
   "cell_type": "markdown",
   "metadata": {},
   "source": [
    "## Sources\n",
    "\n",
    "- https://thismatter.com/money/insurance/rate-making.htm\n",
    "- https://www.itl.nist.gov/div898/handbook/eda/section3/eda366.htm"
   ]
  }
 ],
 "metadata": {
  "kernelspec": {
   "display_name": "Python 3",
   "language": "python",
   "name": "python3"
  },
  "language_info": {
   "codemirror_mode": {
    "name": "ipython",
    "version": 3
   },
   "file_extension": ".py",
   "mimetype": "text/x-python",
   "name": "python",
   "nbconvert_exporter": "python",
   "pygments_lexer": "ipython3",
   "version": "3.6.5"
  }
 },
 "nbformat": 4,
 "nbformat_minor": 2
}
